{
 "cells": [
  {
   "cell_type": "markdown",
   "metadata": {},
   "source": [
    "# Music Store App User Churn Prediction "
   ]
  },
  {
   "cell_type": "markdown",
   "metadata": {},
   "source": [
    "## Introduction"
   ]
  },
  {
   "cell_type": "markdown",
   "metadata": {},
   "source": [
    "In this report I present findings from an exploration of a Music Store App user dataset which records users behavior including playing , searching and downloading songs using the app. Of primary interest is user churn prediction, that means detecting which customers are likely to cancel a subscription to a service based on how they use it [1]. Typically, the customer churn is calculated as a relative number in percentage (i.e. the churn rate) [2]. There are several ways to calculate the churn rate. It is usually expressed\n",
    "as follows:\n",
    "* Fix a conventional period of time as a month or a year;\n",
    "* Count the number of customers lost in this period;\n",
    "* Divide this quantity by the number of customers that the firm had at the beginning of this period."
   ]
  },
  {
   "cell_type": "markdown",
   "metadata": {},
   "source": [
    "### Dataset"
   ]
  },
  {
   "cell_type": "markdown",
   "metadata": {},
   "source": [
    "The source data was provided by a star-up company in China, which includes play log, download log, and search log files from 3/30/2017 - 5/12/2017. Due to confidentiality, there is no user profile available. The data covers about 0.6 million users and 2 million songs."
   ]
  },
  {
   "cell_type": "markdown",
   "metadata": {},
   "source": [
    "## Date preprocessing"
   ]
  },
  {
   "cell_type": "markdown",
   "metadata": {},
   "source": [
    "Due to the large size of the data (~10GB), the files were first unpacked, and the log files were preprocessed using shell script. In addition, since the log files are recorded by each day, I also combined seperate log files to one file containing all the records between 3/30/2017 - 5/12/2017."
   ]
  },
  {
   "cell_type": "code",
   "execution_count": null,
   "metadata": {},
   "outputs": [],
   "source": [
    "#### process play log files ####\n",
    "# unzip play log\n",
    "cd ../data/raw/\n",
    "for f in *_play.log.tar.gz\n",
    "do\n",
    " echo \"Processing $f\"\n",
    " tar -xvzf $f \n",
    "done\n",
    "\n",
    "mv *_play.log ../play/\n",
    "\n",
    "# append file_name to each row (date is added to the dataset)\n",
    "cd ../play/\n",
    "for f in *.log\n",
    "do\n",
    " echo \"Processing $f\"\n",
    " awk -v var=\"$f\" '{print $0,\"\\t\",substr(var,1,8)}' $f > ${f}.fn\n",
    "done\n",
    "\n",
    "# cat all log with filename to one file\n",
    "cat *.log.fn > all_play_log\n",
    "rm *.log\n",
    "rm *.log.fn\n",
    "\n",
    "\n",
    "\n",
    "#### process down log files ####\n",
    "# unzip down log\n",
    "cd ../data/raw/\n",
    "for f in *_down.log.tar.gz\n",
    "do\n",
    " echo \"Processing $f\"\n",
    " tar -xvzf $f && mv *_down.log  ../down/${f//\".tar.gz\"/\"\"}\n",
    "done\n",
    "\n",
    "# append file_name to each row (date is added to the dataset)\n",
    "cd ../down/\n",
    "for f in *.log\n",
    "do\n",
    " echo \"Processing $f\"\n",
    " awk -v var=\"$f\" '{print $0,\"\\t\",substr(var,1,8)}' $f > ${f}.fn\n",
    "done\n",
    "\n",
    "# cat all log with filename to one file\n",
    "cat *.log.fn > all_down_log\n",
    "rm *.log\n",
    "rm *.log.fn\n",
    "\n",
    "\n",
    "\n",
    "#### process search log files ####\n",
    "# unzip search log\n",
    "cd ../data/raw/\n",
    "for f in *_search.log.tar.gz\n",
    "do\n",
    " echo \"Processing $f\"\n",
    " tar -xvzf $f && mv *_search.log  ../search/${f//\".tar.gz\"/\"\"}\n",
    "done\n",
    "\n",
    "# append file_name to each row (date is added to the dataset)\n",
    "cd ../search/\n",
    "for f in *.log\n",
    "do\n",
    " echo \"Processing $f\"\n",
    " awk -v var=\"$f\" '{print $0,\"\\t\",substr(var,1,8)}' $f > ${f}.fn\n",
    "done\n",
    "\n",
    "# cat all log with filename to one file\n",
    "cat *.log.fn > all_search_log\n",
    "rm *.log\n",
    "rm *.log.fn"
   ]
  },
  {
   "cell_type": "markdown",
   "metadata": {},
   "source": [
    "### Count unique ID"
   ]
  },
  {
   "cell_type": "code",
   "execution_count": 1,
   "metadata": {},
   "outputs": [
    {
     "data": {
      "text/plain": [
       "0"
      ]
     },
     "execution_count": 1,
     "metadata": {},
     "output_type": "execute_result"
    }
   ],
   "source": [
    "# use shell script to count plays group by each user id\n",
    "import os\n",
    "cmd=\"\"\"\n",
    "export LC_CTYPE=C \n",
    "export LANG=C\n",
    "# get uid field| sort | count unique ids | strip blank spaces | output to file\n",
    "cat /Users/xuanou/Desktop/data/play/all_play_log| cut -f1 -d$'\\t'| sort | uniq -c | sed -e 's/^ *//g;s/ *$//g'> /Users/xuanou/Desktop/data/uid_countnew.csv\n",
    "\"\"\"\n",
    "os.system(cmd)"
   ]
  },
  {
   "cell_type": "code",
   "execution_count": 2,
   "metadata": {},
   "outputs": [],
   "source": [
    "import numpy as np\n",
    "import pandas as pd\n",
    "import matplotlib.pyplot as plt\n",
    "from matplotlib.dates import date2num \n",
    "import seaborn as sns\n",
    "\n",
    "%matplotlib inline\n",
    "plt.style.use('ggplot')"
   ]
  },
  {
   "cell_type": "markdown",
   "metadata": {},
   "source": [
    "I first counted how many times each distinct user played music in the play dataset, which is the largest dataset among three of those and found that there are 594734 users played music during that period of time. I also noted that there is 1 user id missing."
   ]
  },
  {
   "cell_type": "code",
   "execution_count": 3,
   "metadata": {},
   "outputs": [
    {
     "name": "stdout",
     "output_type": "stream",
     "text": [
      "<class 'pandas.core.frame.DataFrame'>\n",
      "RangeIndex: 594735 entries, 0 to 594734\n",
      "Data columns (total 2 columns):\n",
      "count    594735 non-null int64\n",
      "uid      594734 non-null float64\n",
      "dtypes: float64(1), int64(1)\n",
      "memory usage: 9.1 MB\n"
     ]
    }
   ],
   "source": [
    "# read play counts data by each user ID\n",
    "df = pd.read_csv('/Users/xuanou/Desktop/data/uid_count.csv',sep='\\s+', names=['count','uid'])\n",
    "df.info()"
   ]
  },
  {
   "cell_type": "code",
   "execution_count": 4,
   "metadata": {},
   "outputs": [
    {
     "data": {
      "text/html": [
       "<div>\n",
       "<style scoped>\n",
       "    .dataframe tbody tr th:only-of-type {\n",
       "        vertical-align: middle;\n",
       "    }\n",
       "\n",
       "    .dataframe tbody tr th {\n",
       "        vertical-align: top;\n",
       "    }\n",
       "\n",
       "    .dataframe thead th {\n",
       "        text-align: right;\n",
       "    }\n",
       "</style>\n",
       "<table border=\"1\" class=\"dataframe\">\n",
       "  <thead>\n",
       "    <tr style=\"text-align: right;\">\n",
       "      <th></th>\n",
       "      <th>count</th>\n",
       "      <th>uid</th>\n",
       "    </tr>\n",
       "  </thead>\n",
       "  <tbody>\n",
       "    <tr>\n",
       "      <th>count</th>\n",
       "      <td>5.947350e+05</td>\n",
       "      <td>5.947340e+05</td>\n",
       "    </tr>\n",
       "    <tr>\n",
       "      <th>mean</th>\n",
       "      <td>2.460525e+02</td>\n",
       "      <td>1.673628e+08</td>\n",
       "    </tr>\n",
       "    <tr>\n",
       "      <th>std</th>\n",
       "      <td>1.526662e+04</td>\n",
       "      <td>1.047142e+07</td>\n",
       "    </tr>\n",
       "    <tr>\n",
       "      <th>min</th>\n",
       "      <td>1.000000e+00</td>\n",
       "      <td>0.000000e+00</td>\n",
       "    </tr>\n",
       "    <tr>\n",
       "      <th>25%</th>\n",
       "      <td>9.000000e+00</td>\n",
       "      <td>1.680262e+08</td>\n",
       "    </tr>\n",
       "    <tr>\n",
       "      <th>50%</th>\n",
       "      <td>4.000000e+01</td>\n",
       "      <td>1.684782e+08</td>\n",
       "    </tr>\n",
       "    <tr>\n",
       "      <th>75%</th>\n",
       "      <td>1.740000e+02</td>\n",
       "      <td>1.687685e+08</td>\n",
       "    </tr>\n",
       "    <tr>\n",
       "      <th>max</th>\n",
       "      <td>7.501794e+06</td>\n",
       "      <td>1.692623e+08</td>\n",
       "    </tr>\n",
       "  </tbody>\n",
       "</table>\n",
       "</div>"
      ],
      "text/plain": [
       "              count           uid\n",
       "count  5.947350e+05  5.947340e+05\n",
       "mean   2.460525e+02  1.673628e+08\n",
       "std    1.526662e+04  1.047142e+07\n",
       "min    1.000000e+00  0.000000e+00\n",
       "25%    9.000000e+00  1.680262e+08\n",
       "50%    4.000000e+01  1.684782e+08\n",
       "75%    1.740000e+02  1.687685e+08\n",
       "max    7.501794e+06  1.692623e+08"
      ]
     },
     "execution_count": 4,
     "metadata": {},
     "output_type": "execute_result"
    }
   ],
   "source": [
    "df.describe()"
   ]
  },
  {
   "cell_type": "markdown",
   "metadata": {},
   "source": [
    "The above summary statistics shows us that 50% users played music less than 40 times between 3/30/2017 - 5/12/2017 (44 days) , which makes sense. I'd like to check whether the maximum of play counts is resonable or not."
   ]
  },
  {
   "cell_type": "markdown",
   "metadata": {},
   "source": [
    "### Remove bots and outliers"
   ]
  },
  {
   "cell_type": "markdown",
   "metadata": {},
   "source": [
    "Due to large variation between play times, I transformed the data by taking the log of the play counts and made a plot of log(play_counts)"
   ]
  },
  {
   "cell_type": "code",
   "execution_count": 5,
   "metadata": {},
   "outputs": [
    {
     "data": {
      "text/plain": [
       "Text(0.5,0,'user # plays (10^n)')"
      ]
     },
     "execution_count": 5,
     "metadata": {},
     "output_type": "execute_result"
    },
    {
     "data": {
      "image/png": "[encoded data removed]",
      "text/plain": [
       "<Figure size 432x288 with 1 Axes>"
      ]
     },
     "metadata": {},
     "output_type": "display_data"
    }
   ],
   "source": [
    "# make a plot of log(play_counts)\n",
    "np.log10(df['count']).plot.hist(bins=np.arange(0,5,0.2))\n",
    "plt.xlabel(\"user # plays (10^n)\")"
   ]
  },
  {
   "cell_type": "code",
   "execution_count": 7,
   "metadata": {},
   "outputs": [
    {
     "name": "stdout",
     "output_type": "stream",
     "text": [
      "5195.394000000553\n"
     ]
    }
   ],
   "source": [
    "# 99.9% percentile of play_counts\n",
    "\n",
    "top_count_threshold = np.percentile(df['count'],99.9)\n",
    "print(top_count_threshold)"
   ]
  },
  {
   "cell_type": "code",
   "execution_count": 8,
   "metadata": {},
   "outputs": [
    {
     "name": "stdout",
     "output_type": "stream",
     "text": [
      "total number of users after bot removed: 594139\n"
     ]
    }
   ],
   "source": [
    "# remove bots: get id with play counts < top_count_threshold\n",
    "id_list_bot_removed = np.array(df['uid'][df['count']<top_count_threshold].dropna())\n",
    "\n",
    "print(\"total number of users after bot removed:\",len(id_list_bot_removed))"
   ]
  },
  {
   "cell_type": "markdown",
   "metadata": {},
   "source": [
    "We removed 596 records (594735 - 594139 = 596) including both outliers and one missing value."
   ]
  },
  {
   "cell_type": "markdown",
   "metadata": {},
   "source": [
    "### Apply downsmaple on uid level"
   ]
  },
  {
   "cell_type": "markdown",
   "metadata": {},
   "source": [
    "The whole dataset is too large to handle in personal laptop, therefore I decided to downsampling the data at user level."
   ]
  },
  {
   "cell_type": "code",
   "execution_count": 10,
   "metadata": {},
   "outputs": [
    {
     "name": "stdout",
     "output_type": "stream",
     "text": [
      "total number of users after down sample: 59107\n"
     ]
    }
   ],
   "source": [
    "# downsample ids\n",
    "np.random.seed = 1\n",
    "down_sample_ratio = 0.1\n",
    "id_subset = set(id_list_bot_removed[np.random.random(id_list_bot_removed.shape)<down_sample_ratio])\n",
    "\n",
    "print(\"total number of users after down sample:\",len(id_subset))"
   ]
  },
  {
   "cell_type": "markdown",
   "metadata": {},
   "source": [
    "After downsampling, we have 59107 distinct user ids."
   ]
  },
  {
   "cell_type": "code",
   "execution_count": 11,
   "metadata": {},
   "outputs": [],
   "source": [
    "# define date conversion function\n",
    "import datetime\n",
    "def convert_date(s):\n",
    "    s = str(s).strip()  #leading spaces are removed\n",
    "    try:\n",
    "        year = int(s[:4])\n",
    "        month = int(s[4:6])\n",
    "        day = int(s[6:8])\n",
    "        return datetime.date(year,month,day)\n",
    "    except:\n",
    "        return None"
   ]
  },
  {
   "cell_type": "code",
   "execution_count": 12,
   "metadata": {},
   "outputs": [
    {
     "name": "stdout",
     "output_type": "stream",
     "text": [
      "#row processed: 1000000\n",
      "#row processed: 2000000\n",
      "#row processed: 3000000\n",
      "#row processed: 4000000\n",
      "#row processed: 5000000\n",
      "#row processed: 6000000\n",
      "#row processed: 7000000\n",
      "#row processed: 8000000\n",
      "#row processed: 9000000\n",
      "#row processed: 10000000\n",
      "#row processed: 11000000\n",
      "#row processed: 12000000\n",
      "#row processed: 13000000\n",
      "#row processed: 14000000\n",
      "#row processed: 15000000\n",
      "#row processed: 16000000\n",
      "#row processed: 17000000\n",
      "#row processed: 18000000\n",
      "#row processed: 19000000\n",
      "#row processed: 20000000\n",
      "#row processed: 21000000\n",
      "#row processed: 22000000\n",
      "#row processed: 23000000\n",
      "#row processed: 24000000\n",
      "#row processed: 25000000\n",
      "#row processed: 26000000\n",
      "#row processed: 27000000\n",
      "#row processed: 28000000\n",
      "#row processed: 29000000\n",
      "#row processed: 30000000\n",
      "#row processed: 31000000\n",
      "#row processed: 32000000\n",
      "#row processed: 33000000\n",
      "#row processed: 34000000\n",
      "#row processed: 35000000\n",
      "#row processed: 36000000\n",
      "#row processed: 37000000\n",
      "#row processed: 38000000\n",
      "#row processed: 39000000\n",
      "#row processed: 40000000\n",
      "#row processed: 41000000\n",
      "#row processed: 42000000\n",
      "#row processed: 43000000\n",
      "#row processed: 44000000\n",
      "#row processed: 45000000\n",
      "#row processed: 46000000\n",
      "#row processed: 47000000\n",
      "#row processed: 48000000\n",
      "#row processed: 49000000\n",
      "#row processed: 50000000\n",
      "#row processed: 51000000\n",
      "#row processed: 52000000\n",
      "#row processed: 53000000\n",
      "#row processed: 54000000\n",
      "#row processed: 55000000\n",
      "#row processed: 56000000\n",
      "#row processed: 57000000\n",
      "#row processed: 58000000\n",
      "#row processed: 59000000\n",
      "#row processed: 60000000\n",
      "#row processed: 61000000\n",
      "#row processed: 62000000\n",
      "#row processed: 63000000\n",
      "#row processed: 64000000\n",
      "#row processed: 65000000\n",
      "#row processed: 66000000\n",
      "#row processed: 67000000\n",
      "#row processed: 68000000\n",
      "#row processed: 69000000\n",
      "#row processed: 70000000\n",
      "#row processed: 71000000\n",
      "#row processed: 72000000\n",
      "#row processed: 73000000\n",
      "#row processed: 74000000\n",
      "#row processed: 75000000\n",
      "#row processed: 76000000\n",
      "#row processed: 77000000\n",
      "#row processed: 78000000\n",
      "#row processed: 79000000\n",
      "#row processed: 80000000\n",
      "#row processed: 81000000\n",
      "#row processed: 82000000\n",
      "#row processed: 83000000\n",
      "#row processed: 84000000\n",
      "#row processed: 85000000\n",
      "#row processed: 86000000\n",
      "#row processed: 87000000\n",
      "#row processed: 88000000\n",
      "#row processed: 89000000\n",
      "#row processed: 90000000\n",
      "#row processed: 91000000\n",
      "#row processed: 92000000\n",
      "#row processed: 93000000\n",
      "#row processed: 94000000\n",
      "#row processed: 95000000\n",
      "#row processed: 96000000\n",
      "#row processed: 97000000\n",
      "#row processed: 98000000\n",
      "#row processed: 99000000\n",
      "#row processed: 100000000\n",
      "#row processed: 101000000\n",
      "#row processed: 102000000\n",
      "#row processed: 103000000\n",
      "#row processed: 104000000\n",
      "#row processed: 105000000\n",
      "#row processed: 106000000\n",
      "#row processed: 107000000\n",
      "#row processed: 108000000\n",
      "#row processed: 109000000\n",
      "#row processed: 110000000\n",
      "#row processed: 111000000\n",
      "#row processed: 112000000\n",
      "#row processed: 113000000\n",
      "#row processed: 114000000\n",
      "#row processed: 115000000\n",
      "#row processed: 116000000\n",
      "#row processed: 117000000\n",
      "#row processed: 118000000\n",
      "#row processed: 119000000\n",
      "#row processed: 120000000\n",
      "#row processed: 121000000\n",
      "#row processed: 122000000\n",
      "#row processed: 123000000\n",
      "#row processed: 124000000\n",
      "#row processed: 125000000\n",
      "#row processed: 126000000\n",
      "#row processed: 127000000\n",
      "#row processed: 128000000\n",
      "#row processed: 129000000\n",
      "#row processed: 130000000\n",
      "#row processed: 131000000\n",
      "#row processed: 132000000\n",
      "#row processed: 133000000\n",
      "#row processed: 134000000\n",
      "#row processed: 135000000\n",
      "#row processed: 136000000\n",
      "#row processed: 137000000\n",
      "#row processed: 138000000\n",
      "#row processed: 139000000\n",
      "#row processed: 140000000\n",
      "#row processed: 141000000\n",
      "#row processed: 142000000\n",
      "#row processed: 143000000\n",
      "#row processed: 144000000\n",
      "#row processed: 145000000\n",
      "#row processed: 146000000\n"
     ]
    }
   ],
   "source": [
    "# downsample play dataset by uid\n",
    "import csv\n",
    "input_file = '/Users/xuanou/Desktop/data/play/all_play_log'\n",
    "output_file = '/Users/xuanou/Desktop/data/play_ds.csv'\n",
    "input_field_list = ['uid','device','song_id','song_type','song_name','singer','play_time','song_length','paid_flag','date']\n",
    "output_field_list = ['uid','device','song_id','date','play_time','song_length']\n",
    "i=0\n",
    "with open(input_file,'r',encoding='latin-1') as fin, open(output_file,'w') as fout:\n",
    "    csvin = csv.DictReader(fin,delimiter='\\t',fieldnames=input_field_list,quoting=csv.QUOTE_NONE)\n",
    "    csvout = csv.writer(fout,delimiter=',')\n",
    "    csvout.writerow(output_field_list) # write header\n",
    "    for row in csvin:\n",
    "        i+=1\n",
    "        if i%1000000==0:\n",
    "            print(\"#row processed:\",i)\n",
    "        try:\n",
    "            int(row['uid'])\n",
    "        except:\n",
    "            continue\n",
    "        if int(row['uid']) in id_subset:\n",
    "            row['date'] = convert_date(row['date'])\n",
    "            if row['date'] != None: \n",
    "                csvout.writerow([str(row[key]).strip() for key in output_field_list])"
   ]
  },
  {
   "cell_type": "code",
   "execution_count": 13,
   "metadata": {},
   "outputs": [
    {
     "name": "stdout",
     "output_type": "stream",
     "text": [
      "#row processed: 1000000\n",
      "#row processed: 2000000\n",
      "#row processed: 3000000\n",
      "#row processed: 4000000\n",
      "#row processed: 5000000\n",
      "#row processed: 6000000\n",
      "#row processed: 7000000\n",
      "#row processed: 8000000\n"
     ]
    }
   ],
   "source": [
    "# downsample search dataset by uid  \n",
    "import csv\n",
    "input_file = '/Users/xuanou/Desktop/data/search/all_search_log'\n",
    "output_file = '/Users/xuanou/Desktop/data/search_ds.csv'\n",
    "input_field_list = ['uid','device','time_stamp','search_query','date']\n",
    "output_field_list = ['uid','device','date']\n",
    "i=0\n",
    "with open(input_file,'r',encoding='latin-1') as fin, open(output_file,'w') as fout:\n",
    "    csvin = csv.DictReader(fin,delimiter='\\t',fieldnames=input_field_list,quoting=csv.QUOTE_NONE)\n",
    "    csvout = csv.writer(fout,delimiter=',')\n",
    "    csvout.writerow(output_field_list) # write header\n",
    "    for row in csvin:\n",
    "        i+=1\n",
    "        if i%1000000==0:\n",
    "            print(\"#row processed:\",i)\n",
    "        try:\n",
    "            int(row['uid'])\n",
    "        except:\n",
    "            continue\n",
    "        if int(row['uid']) in id_subset:\n",
    "            row['date'] = convert_date(row['date'])\n",
    "            if row['date'] != None: \n",
    "                csvout.writerow([str(row[key]).strip() for key in output_field_list])"
   ]
  },
  {
   "cell_type": "code",
   "execution_count": 14,
   "metadata": {},
   "outputs": [
    {
     "name": "stdout",
     "output_type": "stream",
     "text": [
      "#row processed: 1000000\n",
      "#row processed: 2000000\n",
      "#row processed: 3000000\n",
      "#row processed: 4000000\n",
      "#row processed: 5000000\n",
      "#row processed: 6000000\n",
      "#row processed: 7000000\n"
     ]
    }
   ],
   "source": [
    "# downsample download dataset by uid\n",
    "import csv\n",
    "input_file = '/Users/xuanou/Desktop/data/down/all_down_log'\n",
    "output_file = '/Users/xuanou/Desktop/data/down_ds.csv'\n",
    "input_field_list = ['uid','device','song_id','song_name','singer','paid_flag','date']\n",
    "output_field_list = ['uid','device','song_id','date']\n",
    "i=0\n",
    "with open(input_file,'r',encoding='latin-1') as fin, open(output_file,'w') as fout:\n",
    "    csvin = csv.DictReader(fin,delimiter='\\t',fieldnames=input_field_list,quoting=csv.QUOTE_NONE)\n",
    "    csvout = csv.writer(fout,delimiter=',')\n",
    "    csvout.writerow(output_field_list) # write header\n",
    "    for row in csvin:\n",
    "        i+=1\n",
    "        if i%1000000==0:\n",
    "            print(\"#row processed:\",i)\n",
    "        try:\n",
    "            int(row['uid'])\n",
    "        except:\n",
    "            continue\n",
    "        if int(row['uid']) in id_subset:\n",
    "            row['date'] = convert_date(row['date'])\n",
    "            if row['date'] != None: \n",
    "                csvout.writerow([str(row[key]).strip() for key in output_field_list])"
   ]
  },
  {
   "cell_type": "code",
   "execution_count": 15,
   "metadata": {},
   "outputs": [
    {
     "name": "stderr",
     "output_type": "stream",
     "text": [
      "/anaconda3/lib/python3.6/site-packages/IPython/core/interactiveshell.py:2785: DtypeWarning: Columns (2) have mixed types. Specify dtype option on import or set low_memory=False.\n",
      "  interactivity=interactivity, compiler=compiler, result=result)\n"
     ]
    },
    {
     "name": "stdout",
     "output_type": "stream",
     "text": [
      "<class 'pandas.core.frame.DataFrame'>\n",
      "RangeIndex: 10745731 entries, 0 to 10745730\n",
      "Data columns (total 6 columns):\n",
      "uid            int64\n",
      "device         object\n",
      "song_id        object\n",
      "date           object\n",
      "play_time      object\n",
      "song_length    float64\n",
      "dtypes: float64(1), int64(1), object(4)\n",
      "memory usage: 491.9+ MB\n"
     ]
    }
   ],
   "source": [
    "# Take a quick look at three datasets after down-sampling\n",
    "df_play = pd.read_csv('/Users/xuanou/Desktop/data/play_ds.csv')\n",
    "df_play.info()"
   ]
  },
  {
   "cell_type": "code",
   "execution_count": 17,
   "metadata": {},
   "outputs": [
    {
     "data": {
      "text/html": [
       "<div>\n",
       "<style scoped>\n",
       "    .dataframe tbody tr th:only-of-type {\n",
       "        vertical-align: middle;\n",
       "    }\n",
       "\n",
       "    .dataframe tbody tr th {\n",
       "        vertical-align: top;\n",
       "    }\n",
       "\n",
       "    .dataframe thead th {\n",
       "        text-align: right;\n",
       "    }\n",
       "</style>\n",
       "<table border=\"1\" class=\"dataframe\">\n",
       "  <thead>\n",
       "    <tr style=\"text-align: right;\">\n",
       "      <th></th>\n",
       "      <th>uid</th>\n",
       "      <th>device</th>\n",
       "      <th>song_id</th>\n",
       "      <th>date</th>\n",
       "      <th>play_time</th>\n",
       "      <th>song_length</th>\n",
       "    </tr>\n",
       "  </thead>\n",
       "  <tbody>\n",
       "    <tr>\n",
       "      <th>0</th>\n",
       "      <td>168540348</td>\n",
       "      <td>ar</td>\n",
       "      <td>77260</td>\n",
       "      <td>2017-03-30</td>\n",
       "      <td>64528</td>\n",
       "      <td>0.0</td>\n",
       "    </tr>\n",
       "    <tr>\n",
       "      <th>1</th>\n",
       "      <td>168547857</td>\n",
       "      <td>ar</td>\n",
       "      <td>4.3563e+06</td>\n",
       "      <td>2017-03-30</td>\n",
       "      <td>3</td>\n",
       "      <td>0.0</td>\n",
       "    </tr>\n",
       "    <tr>\n",
       "      <th>2</th>\n",
       "      <td>168548101</td>\n",
       "      <td>ip</td>\n",
       "      <td>6.91318e+06</td>\n",
       "      <td>2017-03-30</td>\n",
       "      <td>40</td>\n",
       "      <td>198.0</td>\n",
       "    </tr>\n",
       "    <tr>\n",
       "      <th>3</th>\n",
       "      <td>168551487</td>\n",
       "      <td>ar</td>\n",
       "      <td>811133</td>\n",
       "      <td>2017-03-30</td>\n",
       "      <td>200</td>\n",
       "      <td>200.0</td>\n",
       "    </tr>\n",
       "    <tr>\n",
       "      <th>4</th>\n",
       "      <td>168532776</td>\n",
       "      <td>ip</td>\n",
       "      <td>2.06741e+07</td>\n",
       "      <td>2017-03-30</td>\n",
       "      <td>172</td>\n",
       "      <td>172.0</td>\n",
       "    </tr>\n",
       "  </tbody>\n",
       "</table>\n",
       "</div>"
      ],
      "text/plain": [
       "         uid device      song_id        date play_time  song_length\n",
       "0  168540348     ar        77260  2017-03-30     64528          0.0\n",
       "1  168547857     ar   4.3563e+06  2017-03-30         3          0.0\n",
       "2  168548101     ip  6.91318e+06  2017-03-30        40        198.0\n",
       "3  168551487     ar       811133  2017-03-30       200        200.0\n",
       "4  168532776     ip  2.06741e+07  2017-03-30       172        172.0"
      ]
     },
     "execution_count": 17,
     "metadata": {},
     "output_type": "execute_result"
    }
   ],
   "source": [
    "df_play.head()"
   ]
  },
  {
   "cell_type": "code",
   "execution_count": 18,
   "metadata": {},
   "outputs": [
    {
     "name": "stdout",
     "output_type": "stream",
     "text": [
      "<class 'pandas.core.frame.DataFrame'>\n",
      "RangeIndex: 763366 entries, 0 to 763365\n",
      "Data columns (total 3 columns):\n",
      "uid       763366 non-null int64\n",
      "device    763366 non-null object\n",
      "date      763366 non-null object\n",
      "dtypes: int64(1), object(2)\n",
      "memory usage: 17.5+ MB\n"
     ]
    }
   ],
   "source": [
    "df_search = pd.read_csv('/Users/xuanou/Desktop/data/search_ds.csv')\n",
    "df_search.info()"
   ]
  },
  {
   "cell_type": "code",
   "execution_count": 27,
   "metadata": {},
   "outputs": [
    {
     "data": {
      "text/html": [
       "<div>\n",
       "<style scoped>\n",
       "    .dataframe tbody tr th:only-of-type {\n",
       "        vertical-align: middle;\n",
       "    }\n",
       "\n",
       "    .dataframe tbody tr th {\n",
       "        vertical-align: top;\n",
       "    }\n",
       "\n",
       "    .dataframe thead th {\n",
       "        text-align: right;\n",
       "    }\n",
       "</style>\n",
       "<table border=\"1\" class=\"dataframe\">\n",
       "  <thead>\n",
       "    <tr style=\"text-align: right;\">\n",
       "      <th></th>\n",
       "      <th>uid</th>\n",
       "      <th>device</th>\n",
       "      <th>date</th>\n",
       "    </tr>\n",
       "  </thead>\n",
       "  <tbody>\n",
       "    <tr>\n",
       "      <th>0</th>\n",
       "      <td>168040163</td>\n",
       "      <td>ar</td>\n",
       "      <td>2017-03-30</td>\n",
       "    </tr>\n",
       "    <tr>\n",
       "      <th>1</th>\n",
       "      <td>168045723</td>\n",
       "      <td>ar</td>\n",
       "      <td>2017-03-30</td>\n",
       "    </tr>\n",
       "    <tr>\n",
       "      <th>2</th>\n",
       "      <td>167780192</td>\n",
       "      <td>ar</td>\n",
       "      <td>2017-03-30</td>\n",
       "    </tr>\n",
       "    <tr>\n",
       "      <th>3</th>\n",
       "      <td>168045723</td>\n",
       "      <td>ar</td>\n",
       "      <td>2017-03-30</td>\n",
       "    </tr>\n",
       "    <tr>\n",
       "      <th>4</th>\n",
       "      <td>168021965</td>\n",
       "      <td>ar</td>\n",
       "      <td>2017-03-30</td>\n",
       "    </tr>\n",
       "  </tbody>\n",
       "</table>\n",
       "</div>"
      ],
      "text/plain": [
       "         uid device        date\n",
       "0  168040163     ar  2017-03-30\n",
       "1  168045723     ar  2017-03-30\n",
       "2  167780192     ar  2017-03-30\n",
       "3  168045723     ar  2017-03-30\n",
       "4  168021965     ar  2017-03-30"
      ]
     },
     "execution_count": 27,
     "metadata": {},
     "output_type": "execute_result"
    }
   ],
   "source": [
    "df_search.head()"
   ]
  },
  {
   "cell_type": "code",
   "execution_count": 19,
   "metadata": {},
   "outputs": [
    {
     "name": "stdout",
     "output_type": "stream",
     "text": [
      "<class 'pandas.core.frame.DataFrame'>\n",
      "RangeIndex: 623240 entries, 0 to 623239\n",
      "Data columns (total 4 columns):\n",
      "uid        623240 non-null int64\n",
      "device     623240 non-null object\n",
      "song_id    623169 non-null float64\n",
      "date       623240 non-null object\n",
      "dtypes: float64(1), int64(1), object(2)\n",
      "memory usage: 19.0+ MB\n"
     ]
    }
   ],
   "source": [
    "df_down = pd.read_csv('/Users/xuanou/Desktop/data/down_ds.csv')\n",
    "df_down.info()"
   ]
  },
  {
   "cell_type": "code",
   "execution_count": 28,
   "metadata": {},
   "outputs": [
    {
     "data": {
      "text/html": [
       "<div>\n",
       "<style scoped>\n",
       "    .dataframe tbody tr th:only-of-type {\n",
       "        vertical-align: middle;\n",
       "    }\n",
       "\n",
       "    .dataframe tbody tr th {\n",
       "        vertical-align: top;\n",
       "    }\n",
       "\n",
       "    .dataframe thead th {\n",
       "        text-align: right;\n",
       "    }\n",
       "</style>\n",
       "<table border=\"1\" class=\"dataframe\">\n",
       "  <thead>\n",
       "    <tr style=\"text-align: right;\">\n",
       "      <th></th>\n",
       "      <th>uid</th>\n",
       "      <th>device</th>\n",
       "      <th>song_id</th>\n",
       "      <th>date</th>\n",
       "    </tr>\n",
       "  </thead>\n",
       "  <tbody>\n",
       "    <tr>\n",
       "      <th>0</th>\n",
       "      <td>167580727</td>\n",
       "      <td>ip</td>\n",
       "      <td>6298828.0</td>\n",
       "      <td>2017-03-30</td>\n",
       "    </tr>\n",
       "    <tr>\n",
       "      <th>1</th>\n",
       "      <td>167819030</td>\n",
       "      <td>ip</td>\n",
       "      <td>365492.0</td>\n",
       "      <td>2017-03-30</td>\n",
       "    </tr>\n",
       "    <tr>\n",
       "      <th>2</th>\n",
       "      <td>167819030</td>\n",
       "      <td>ip</td>\n",
       "      <td>6854227.0</td>\n",
       "      <td>2017-03-30</td>\n",
       "    </tr>\n",
       "    <tr>\n",
       "      <th>3</th>\n",
       "      <td>167819030</td>\n",
       "      <td>ip</td>\n",
       "      <td>3626250.0</td>\n",
       "      <td>2017-03-30</td>\n",
       "    </tr>\n",
       "    <tr>\n",
       "      <th>4</th>\n",
       "      <td>167819030</td>\n",
       "      <td>ip</td>\n",
       "      <td>914553.0</td>\n",
       "      <td>2017-03-30</td>\n",
       "    </tr>\n",
       "  </tbody>\n",
       "</table>\n",
       "</div>"
      ],
      "text/plain": [
       "         uid device    song_id        date\n",
       "0  167580727     ip  6298828.0  2017-03-30\n",
       "1  167819030     ip   365492.0  2017-03-30\n",
       "2  167819030     ip  6854227.0  2017-03-30\n",
       "3  167819030     ip  3626250.0  2017-03-30\n",
       "4  167819030     ip   914553.0  2017-03-30"
      ]
     },
     "execution_count": 28,
     "metadata": {},
     "output_type": "execute_result"
    }
   ],
   "source": [
    "df_down.head()"
   ]
  },
  {
   "cell_type": "markdown",
   "metadata": {},
   "source": [
    "### Create event table for feature generation"
   ]
  },
  {
   "cell_type": "markdown",
   "metadata": {},
   "source": [
    "After getting three datasets after downsampling, I combined play, search and download datasets into one event table in order to generate new features."
   ]
  },
  {
   "cell_type": "code",
   "execution_count": 20,
   "metadata": {},
   "outputs": [
    {
     "name": "stdout",
     "output_type": "stream",
     "text": [
      "Processing play ...\n",
      "Processing down ...\n",
      "Processing search ...\n"
     ]
    }
   ],
   "source": [
    "play_file = '/Users/xuanou/Desktop/data/play_ds.csv'\n",
    "down_file = '/Users/xuanou/Desktop/data/down_ds.csv'\n",
    "search_file = '/Users/xuanou/Desktop/data/search_ds.csv'\n",
    "output_file = '/Users/xuanou/Desktop/data/event_ds.csv'\n",
    "play_field_list = ['uid','device','song_id','date','play_time','song_length']\n",
    "down_field_list = ['uid','device','song_id','date']\n",
    "search_field_list = ['uid','device','date']\n",
    "output_field_list = ['uid','event','song_id','date']\n",
    "with open(play_file,'r') as f_play, open(down_file,'r') as f_down, \\\n",
    "open(search_file,'r') as f_search,open(output_file,'w') as f_out:\n",
    "    csvplay = csv.DictReader(f_play,delimiter=',')\n",
    "    csvdown = csv.DictReader(f_down,delimiter=',')\n",
    "    csvsearch = csv.DictReader(f_search,delimiter=',')\n",
    "    csvout = csv.writer(f_out,delimiter=',')\n",
    "    csvout.writerow(output_field_list) # write header\n",
    "    print('Processing play ...')\n",
    "    for row in csvplay:\n",
    "        row['event'] = 'P'\n",
    "        row['date']\n",
    "        csvout.writerow([row[key] for key in output_field_list])\n",
    "    print('Processing down ...')\n",
    "    for row in csvdown:\n",
    "        row['event'] = 'D'\n",
    "        csvout.writerow([row[key] for key in output_field_list])\n",
    "    print('Processing search ...')\n",
    "    for row in csvsearch:\n",
    "        row['event'] = 'S'\n",
    "        csvout.writerow([row.get(key,'') for key in output_field_list])"
   ]
  },
  {
   "cell_type": "code",
   "execution_count": 1,
   "metadata": {},
   "outputs": [],
   "source": [
    "import pyspark.sql.functions as F\n",
    "from pyspark.context import SparkContext\n",
    "from pyspark.sql.session import SparkSession\n",
    "sc = SparkContext('local')\n",
    "spark = SparkSession(sc)"
   ]
  },
  {
   "cell_type": "code",
   "execution_count": 63,
   "metadata": {},
   "outputs": [
    {
     "data": {
      "text/plain": [
       "DataFrame[uid: string, event: string, song_id: string, date: string]"
      ]
     },
     "execution_count": 63,
     "metadata": {},
     "output_type": "execute_result"
    }
   ],
   "source": [
    "# Load data into Spark DataFrame\n",
    "df = spark.read.csv('/Users/xuanou/Desktop/data/event_ds.csv',header=True).cache()\n",
    "df"
   ]
  },
  {
   "cell_type": "code",
   "execution_count": 64,
   "metadata": {},
   "outputs": [
    {
     "name": "stdout",
     "output_type": "stream",
     "text": [
      "+---------+-----+--------+----------+\n",
      "|      uid|event| song_id|      date|\n",
      "+---------+-----+--------+----------+\n",
      "|168540348|    P|   77260|2017-03-30|\n",
      "|168547857|    P| 4356304|2017-03-30|\n",
      "|168548101|    P| 6913185|2017-03-30|\n",
      "|168551487|    P|  811133|2017-03-30|\n",
      "|168532776|    P|20674091|2017-03-30|\n",
      "|168548099|    P| 4984002|2017-03-30|\n",
      "|168543049|    P|  347730|2017-03-30|\n",
      "|168550576|    P|  324249|2017-03-30|\n",
      "|168551383|    P| 7149583|2017-03-30|\n",
      "|168543348|    P|       0|2017-03-30|\n",
      "+---------+-----+--------+----------+\n",
      "only showing top 10 rows\n",
      "\n"
     ]
    }
   ],
   "source": [
    "df.show(10)"
   ]
  },
  {
   "cell_type": "markdown",
   "metadata": {},
   "source": [
    "## Data Exploration"
   ]
  },
  {
   "cell_type": "code",
   "execution_count": 65,
   "metadata": {},
   "outputs": [
    {
     "data": {
      "text/plain": [
       "DataFrame[uid: string, event: string, song_id: string, date: date]"
      ]
     },
     "execution_count": 65,
     "metadata": {},
     "output_type": "execute_result"
    }
   ],
   "source": [
    "# create new or overwrite original field with withColumn\n",
    "df = df.withColumn('date',F.col('date').cast('date'))\n",
    "df"
   ]
  },
  {
   "cell_type": "code",
   "execution_count": 25,
   "metadata": {},
   "outputs": [
    {
     "data": {
      "text/plain": [
       "12132337"
      ]
     },
     "execution_count": 25,
     "metadata": {},
     "output_type": "execute_result"
    }
   ],
   "source": [
    "df.count()"
   ]
  },
  {
   "cell_type": "code",
   "execution_count": 26,
   "metadata": {},
   "outputs": [
    {
     "data": {
      "text/plain": [
       "59106"
      ]
     },
     "execution_count": 26,
     "metadata": {},
     "output_type": "execute_result"
    }
   ],
   "source": [
    "# select operation, count distinct rows\n",
    "df.select('uid').distinct().count()"
   ]
  },
  {
   "cell_type": "code",
   "execution_count": 29,
   "metadata": {},
   "outputs": [
    {
     "name": "stdout",
     "output_type": "stream",
     "text": [
      "+-----+--------+\n",
      "|event|   count|\n",
      "+-----+--------+\n",
      "|    D|  623240|\n",
      "|    S|  763366|\n",
      "|    P|10745731|\n",
      "+-----+--------+\n",
      "\n"
     ]
    }
   ],
   "source": [
    "# group by aggregation\n",
    "df.groupBy('event').count().show()"
   ]
  },
  {
   "cell_type": "code",
   "execution_count": 68,
   "metadata": {},
   "outputs": [],
   "source": [
    "date_count = df.groupBy('date').count().toPandas()\n",
    "date_count['date'] = date_count['date'].apply(date2num) "
   ]
  },
  {
   "cell_type": "markdown",
   "metadata": {},
   "source": [
    "Let's take a look the trend when people like to use the app by each day and weekday."
   ]
  },
  {
   "cell_type": "markdown",
   "metadata": {},
   "source": [
    "![title](/notebooks/Desktop/data/Counts_eachday.png \"ShowMyImage\")"
   ]
  },
  {
   "cell_type": "markdown",
   "metadata": {},
   "source": [
    "![title](/notebooks/Desktop/data/Counts_eachday.png \"ShowMyImage\")"
   ]
  },
  {
   "cell_type": "markdown",
   "metadata": {},
   "source": [
    "In the first week, the active users were at least 2X times more than the rest of days. It needed to investigate to get more insights. From the below barchart, it shows us that users used the app more frequently on Thursday, Friday, and the weekends then Monday, Tuesday, and Wednesday.\n"
   ]
  },
  {
   "cell_type": "markdown",
   "metadata": {},
   "source": [
    "### Churn Label"
   ]
  },
  {
   "cell_type": "markdown",
   "metadata": {},
   "source": [
    "Here I defined user churn if users were inactive in outcome window of last two weeks (4/29-5/12). Then the population included all active users between 3/30-4/28, and excluded inactive users during the observation window. "
   ]
  },
  {
   "cell_type": "code",
   "execution_count": 10,
   "metadata": {},
   "outputs": [
    {
     "name": "stdout",
     "output_type": "stream",
     "text": [
      "label window: 2017-04-29 ~ 2017-05-12 days: 14\n",
      "feature window: 2017-03-30 ~ 2017-04-28 days: 30\n"
     ]
    }
   ],
   "source": [
    "# Create label window (2017-04-29 ~ 2017-05-12) and feature windown (2017-03-30 ~ 2017-04-28)\n",
    "import datetime\n",
    "from dateutil import parser\n",
    "\n",
    "label_window_size = 14\n",
    "label_window_end_date = parser.parse('2017-05-12').date()\n",
    "label_window_start_date = label_window_end_date - datetime.timedelta(label_window_size - 1)\n",
    "print('label window:',label_window_start_date,'~',label_window_end_date,'days:',label_window_size)\n",
    "\n",
    "feature_window_size = 30\n",
    "feature_window_end_date = label_window_start_date - datetime.timedelta(1)\n",
    "feature_window_start_date = feature_window_end_date  - datetime.timedelta(feature_window_size - 1)\n",
    "print('feature window:',feature_window_start_date,'~',feature_window_end_date,'days:',feature_window_size)"
   ]
  },
  {
   "cell_type": "code",
   "execution_count": 11,
   "metadata": {},
   "outputs": [],
   "source": [
    "# Include all the users in feature window\n",
    "df_model_uid = df.filter((F.col('date')>=feature_window_start_date) & (F.col('date')<=feature_window_end_date))\\\n",
    "                    .select('uid').distinct()\n",
    "# active in label window (active label=0)\n",
    "df_active_uid_in_label_window = df.filter((F.col('date')>=label_window_start_date) & (F.col('date')<=label_window_end_date))\\\n",
    "                            .select('uid').distinct().withColumn('label',F.lit(0))"
   ]
  },
  {
   "cell_type": "markdown",
   "metadata": {},
   "source": [
    "If a user existed in feature window but left in label window, that user was defined as 'churner', and labeled as 1, otherwise the user was labeled as 0."
   ]
  },
  {
   "cell_type": "code",
   "execution_count": 12,
   "metadata": {},
   "outputs": [],
   "source": [
    "# prepare label data (churn label=1; active label=0)\n",
    "df_label = df_model_uid.join(df_active_uid_in_label_window,on=['uid'],how='left')\n",
    "df_label = df_label.fillna(1)"
   ]
  },
  {
   "cell_type": "code",
   "execution_count": 13,
   "metadata": {},
   "outputs": [
    {
     "name": "stdout",
     "output_type": "stream",
     "text": [
      "+---------+-----+\n",
      "|      uid|label|\n",
      "+---------+-----+\n",
      "|136858556|    1|\n",
      "|159183409|    0|\n",
      "|166855134|    0|\n",
      "|167581827|    1|\n",
      "|167590080|    1|\n",
      "+---------+-----+\n",
      "only showing top 5 rows\n",
      "\n"
     ]
    }
   ],
   "source": [
    "df_label.show(5)"
   ]
  },
  {
   "cell_type": "code",
   "execution_count": 55,
   "metadata": {},
   "outputs": [
    {
     "name": "stdout",
     "output_type": "stream",
     "text": [
      "+-----+-----+\n",
      "|label|count|\n",
      "+-----+-----+\n",
      "|    1|35847|\n",
      "|    0|21939|\n",
      "+-----+-----+\n",
      "\n"
     ]
    }
   ],
   "source": [
    "df_label.groupBy('label').count().show()"
   ]
  },
  {
   "cell_type": "markdown",
   "metadata": {},
   "source": [
    "## Feature generation"
   ]
  },
  {
   "cell_type": "markdown",
   "metadata": {},
   "source": [
    "15 features were generated consisting of frequencies of events over observation window.\n",
    "* Number of days: 1, 3, 7, 14, 30\n",
    "* Type of events: play, search, download\n",
    "* 15 features"
   ]
  },
  {
   "cell_type": "code",
   "execution_count": 7,
   "metadata": {},
   "outputs": [
    {
     "name": "stdout",
     "output_type": "stream",
     "text": [
      "+---------+-----+--------+----------+\n",
      "|      uid|event| song_id|      date|\n",
      "+---------+-----+--------+----------+\n",
      "|168540348|    P|   77260|2017-03-30|\n",
      "|168547857|    P| 4356304|2017-03-30|\n",
      "|168548101|    P| 6913185|2017-03-30|\n",
      "|168551487|    P|  811133|2017-03-30|\n",
      "|168532776|    P|20674091|2017-03-30|\n",
      "+---------+-----+--------+----------+\n",
      "only showing top 5 rows\n",
      "\n"
     ]
    }
   ],
   "source": [
    "df.show(5)"
   ]
  },
  {
   "cell_type": "code",
   "execution_count": 14,
   "metadata": {},
   "outputs": [],
   "source": [
    "# event_data in feature_window\n",
    "df_feature_window = df.filter((F.col('date')>=feature_window_start_date) & (F.col('date')<=feature_window_end_date))"
   ]
  },
  {
   "cell_type": "markdown",
   "metadata": {},
   "source": [
    "### Frequency features generation"
   ]
  },
  {
   "cell_type": "code",
   "execution_count": 15,
   "metadata": {},
   "outputs": [],
   "source": [
    "# define a function to generate frequency features for a list of time windows\n",
    "# using when().otherwise(), and list comprehension trick!\n",
    "def frequency_feature_generation_time_windows(df,event,time_window_list,snapshot_date):\n",
    "    \"\"\"\n",
    "    generate frequency features for one event type and a list of time windows\n",
    "    \"\"\"\n",
    "    df_feature = df \\\n",
    "        .filter(F.col('event')==event) \\\n",
    "        .groupBy('uid') \\\n",
    "        .agg(*[F.sum(F.when((F.col('date')>=snapshot_date-datetime.timedelta(time_window-1)) & (F.col('date')<=snapshot_date),1).otherwise(0)).alias('freq_'+event+'_last_'+str(time_window)) \\\n",
    "                for time_window in time_window_list]\n",
    "            )# *[] opens list and make them comma separated\n",
    "    return df_feature"
   ]
  },
  {
   "cell_type": "code",
   "execution_count": 16,
   "metadata": {},
   "outputs": [
    {
     "name": "stdout",
     "output_type": "stream",
     "text": [
      "+---------+-------------+-------------+-------------+--------------+--------------+\n",
      "|      uid|freq_S_last_1|freq_S_last_3|freq_S_last_7|freq_S_last_14|freq_S_last_30|\n",
      "+---------+-------------+-------------+-------------+--------------+--------------+\n",
      "|167718831|            8|            8|           14|            29|           129|\n",
      "|167810312|            0|            0|            6|             9|            19|\n",
      "|167935507|            6|           10|           33|            91|           222|\n",
      "|167878077|            0|            0|            0|             0|            15|\n",
      "|167787875|            0|            0|            0|             2|            21|\n",
      "+---------+-------------+-------------+-------------+--------------+--------------+\n",
      "only showing top 5 rows\n",
      "\n"
     ]
    }
   ],
   "source": [
    "# generate one event type, all time windows \n",
    "event = 'S'\n",
    "time_window_list = [1,3,7,14,30]\n",
    "snapshot_date = feature_window_end_date\n",
    "df_feature = frequency_feature_generation_time_windows(df_feature_window,event,time_window_list,snapshot_date)\n",
    "df_feature.show(5)"
   ]
  },
  {
   "cell_type": "code",
   "execution_count": 23,
   "metadata": {},
   "outputs": [],
   "source": [
    "# generate frequency features for all event_list, time_window_list\n",
    "event_list = ['P','D','S']\n",
    "time_window_list = [1,3,7,14,30]\n",
    "df_feature_list = []\n",
    "for event in event_list:\n",
    "    df_feature_list.append(frequency_feature_generation_time_windows(df_feature_window,event,time_window_list,snapshot_date))\n"
   ]
  },
  {
   "cell_type": "code",
   "execution_count": null,
   "metadata": {},
   "outputs": [],
   "source": [
    "df_feature_list"
   ]
  },
  {
   "cell_type": "markdown",
   "metadata": {},
   "source": [
    "### Profile features"
   ]
  },
  {
   "cell_type": "code",
   "execution_count": 27,
   "metadata": {},
   "outputs": [
    {
     "name": "stdout",
     "output_type": "stream",
     "text": [
      "+---------+------+--------+----------+---------+-----------+\n",
      "|      uid|device| song_id|      date|play_time|song_length|\n",
      "+---------+------+--------+----------+---------+-----------+\n",
      "|168540348|    ar|   77260|2017-03-30|    64528|          0|\n",
      "|168547857|    ar| 4356304|2017-03-30|        3|          0|\n",
      "|168548101|    ip| 6913185|2017-03-30|       40|        198|\n",
      "|168551487|    ar|  811133|2017-03-30|      200|        200|\n",
      "|168532776|    ip|20674091|2017-03-30|      172|        172|\n",
      "+---------+------+--------+----------+---------+-----------+\n",
      "only showing top 5 rows\n",
      "\n"
     ]
    }
   ],
   "source": [
    "df_play = spark.read.csv('/Users/xuanou/Desktop/data/play_ds.csv',header=True)\n",
    "df_play.show(5)"
   ]
  },
  {
   "cell_type": "code",
   "execution_count": 29,
   "metadata": {},
   "outputs": [],
   "source": [
    "df_play_feature_window = df_play.filter((F.col('date')>=feature_window_start_date) & (F.col('date')<=feature_window_end_date))\n",
    "df_profile_tmp = df_play_feature_window.select('uid','device').distinct()"
   ]
  },
  {
   "cell_type": "code",
   "execution_count": 30,
   "metadata": {},
   "outputs": [
    {
     "name": "stdout",
     "output_type": "stream",
     "text": [
      "+-----------+-----+\n",
      "|device_type|count|\n",
      "+-----------+-----+\n",
      "|          1| 7297|\n",
      "|          0|50373|\n",
      "+-----------+-----+\n",
      "\n"
     ]
    }
   ],
   "source": [
    "df_profile_tmp = df_profile_tmp.withColumn('device_type',F.when(F.col('device')=='ip',1).otherwise(0))\n",
    "df_profile_tmp.groupBy('device_type').count().show()"
   ]
  },
  {
   "cell_type": "code",
   "execution_count": 79,
   "metadata": {},
   "outputs": [],
   "source": [
    "df_profile = df_label.select('uid').join(df_profile_tmp.select('uid','device_type'),on='uid',how='left')\n"
   ]
  },
  {
   "cell_type": "markdown",
   "metadata": {},
   "source": [
    "### Create final training data"
   ]
  },
  {
   "cell_type": "code",
   "execution_count": 39,
   "metadata": {},
   "outputs": [],
   "source": [
    "def join_feature_data(df_master,df_feature_list):\n",
    "    for df_feature in df_feature_list:\n",
    "        df_master = df_master.join(df_feature,on='uid',how='left')\n",
    "        #df_master.persist() # uncomment if number of joins is too many\n",
    "    return df_master"
   ]
  },
  {
   "cell_type": "code",
   "execution_count": 40,
   "metadata": {},
   "outputs": [],
   "source": [
    "# join all behavior features\n",
    "df_model_final = join_feature_data(df_label,df_feature_list)"
   ]
  },
  {
   "cell_type": "code",
   "execution_count": 41,
   "metadata": {},
   "outputs": [],
   "source": [
    "# join all profile features\n",
    "df_model_final = join_feature_data(df_model_final,[df_profile])"
   ]
  },
  {
   "cell_type": "code",
   "execution_count": 42,
   "metadata": {},
   "outputs": [],
   "source": [
    "df_model_final.fillna(0).toPandas().to_csv('/Users/xuanou/Desktop/data/df_model_final.csv',index=False)"
   ]
  },
  {
   "cell_type": "markdown",
   "metadata": {},
   "source": [
    "## Train Model"
   ]
  },
  {
   "cell_type": "code",
   "execution_count": 3,
   "metadata": {},
   "outputs": [],
   "source": [
    "# Load data from file\n",
    "df = pd.read_csv('/Users/xuanou/Desktop/data/df_model_final.csv')"
   ]
  },
  {
   "cell_type": "code",
   "execution_count": 4,
   "metadata": {},
   "outputs": [
    {
     "data": {
      "text/html": [
       "<div>\n",
       "<style scoped>\n",
       "    .dataframe tbody tr th:only-of-type {\n",
       "        vertical-align: middle;\n",
       "    }\n",
       "\n",
       "    .dataframe tbody tr th {\n",
       "        vertical-align: top;\n",
       "    }\n",
       "\n",
       "    .dataframe thead th {\n",
       "        text-align: right;\n",
       "    }\n",
       "</style>\n",
       "<table border=\"1\" class=\"dataframe\">\n",
       "  <thead>\n",
       "    <tr style=\"text-align: right;\">\n",
       "      <th></th>\n",
       "      <th>uid</th>\n",
       "      <th>label</th>\n",
       "      <th>freq_P_last_1</th>\n",
       "      <th>freq_P_last_3</th>\n",
       "      <th>freq_P_last_7</th>\n",
       "      <th>freq_P_last_14</th>\n",
       "      <th>freq_P_last_30</th>\n",
       "      <th>freq_D_last_1</th>\n",
       "      <th>freq_D_last_3</th>\n",
       "      <th>freq_D_last_7</th>\n",
       "      <th>freq_D_last_14</th>\n",
       "      <th>freq_D_last_30</th>\n",
       "      <th>freq_S_last_1</th>\n",
       "      <th>freq_S_last_3</th>\n",
       "      <th>freq_S_last_7</th>\n",
       "      <th>freq_S_last_14</th>\n",
       "      <th>freq_S_last_30</th>\n",
       "      <th>device_type</th>\n",
       "    </tr>\n",
       "  </thead>\n",
       "  <tbody>\n",
       "    <tr>\n",
       "      <th>0</th>\n",
       "      <td>136858556</td>\n",
       "      <td>1</td>\n",
       "      <td>0</td>\n",
       "      <td>0</td>\n",
       "      <td>0</td>\n",
       "      <td>0</td>\n",
       "      <td>3</td>\n",
       "      <td>0</td>\n",
       "      <td>0</td>\n",
       "      <td>0</td>\n",
       "      <td>0</td>\n",
       "      <td>0</td>\n",
       "      <td>0</td>\n",
       "      <td>0</td>\n",
       "      <td>0</td>\n",
       "      <td>0</td>\n",
       "      <td>0</td>\n",
       "      <td>0</td>\n",
       "    </tr>\n",
       "    <tr>\n",
       "      <th>1</th>\n",
       "      <td>159183409</td>\n",
       "      <td>0</td>\n",
       "      <td>0</td>\n",
       "      <td>0</td>\n",
       "      <td>1</td>\n",
       "      <td>79</td>\n",
       "      <td>774</td>\n",
       "      <td>0</td>\n",
       "      <td>0</td>\n",
       "      <td>0</td>\n",
       "      <td>0</td>\n",
       "      <td>1</td>\n",
       "      <td>0</td>\n",
       "      <td>0</td>\n",
       "      <td>2</td>\n",
       "      <td>2</td>\n",
       "      <td>9</td>\n",
       "      <td>0</td>\n",
       "    </tr>\n",
       "    <tr>\n",
       "      <th>2</th>\n",
       "      <td>166855134</td>\n",
       "      <td>0</td>\n",
       "      <td>8</td>\n",
       "      <td>8</td>\n",
       "      <td>90</td>\n",
       "      <td>159</td>\n",
       "      <td>231</td>\n",
       "      <td>0</td>\n",
       "      <td>0</td>\n",
       "      <td>0</td>\n",
       "      <td>0</td>\n",
       "      <td>2</td>\n",
       "      <td>2</td>\n",
       "      <td>2</td>\n",
       "      <td>13</td>\n",
       "      <td>23</td>\n",
       "      <td>32</td>\n",
       "      <td>0</td>\n",
       "    </tr>\n",
       "    <tr>\n",
       "      <th>3</th>\n",
       "      <td>167581827</td>\n",
       "      <td>1</td>\n",
       "      <td>0</td>\n",
       "      <td>0</td>\n",
       "      <td>0</td>\n",
       "      <td>15</td>\n",
       "      <td>163</td>\n",
       "      <td>0</td>\n",
       "      <td>0</td>\n",
       "      <td>0</td>\n",
       "      <td>0</td>\n",
       "      <td>0</td>\n",
       "      <td>0</td>\n",
       "      <td>0</td>\n",
       "      <td>0</td>\n",
       "      <td>0</td>\n",
       "      <td>0</td>\n",
       "      <td>0</td>\n",
       "    </tr>\n",
       "    <tr>\n",
       "      <th>4</th>\n",
       "      <td>167590080</td>\n",
       "      <td>1</td>\n",
       "      <td>0</td>\n",
       "      <td>0</td>\n",
       "      <td>0</td>\n",
       "      <td>97</td>\n",
       "      <td>257</td>\n",
       "      <td>0</td>\n",
       "      <td>0</td>\n",
       "      <td>0</td>\n",
       "      <td>0</td>\n",
       "      <td>0</td>\n",
       "      <td>0</td>\n",
       "      <td>0</td>\n",
       "      <td>0</td>\n",
       "      <td>0</td>\n",
       "      <td>0</td>\n",
       "      <td>0</td>\n",
       "    </tr>\n",
       "    <tr>\n",
       "      <th>5</th>\n",
       "      <td>167594294</td>\n",
       "      <td>1</td>\n",
       "      <td>0</td>\n",
       "      <td>0</td>\n",
       "      <td>0</td>\n",
       "      <td>0</td>\n",
       "      <td>17</td>\n",
       "      <td>0</td>\n",
       "      <td>0</td>\n",
       "      <td>0</td>\n",
       "      <td>0</td>\n",
       "      <td>0</td>\n",
       "      <td>0</td>\n",
       "      <td>0</td>\n",
       "      <td>0</td>\n",
       "      <td>0</td>\n",
       "      <td>0</td>\n",
       "      <td>0</td>\n",
       "    </tr>\n",
       "    <tr>\n",
       "      <th>6</th>\n",
       "      <td>167598799</td>\n",
       "      <td>1</td>\n",
       "      <td>0</td>\n",
       "      <td>0</td>\n",
       "      <td>0</td>\n",
       "      <td>0</td>\n",
       "      <td>13</td>\n",
       "      <td>0</td>\n",
       "      <td>0</td>\n",
       "      <td>0</td>\n",
       "      <td>0</td>\n",
       "      <td>0</td>\n",
       "      <td>0</td>\n",
       "      <td>0</td>\n",
       "      <td>0</td>\n",
       "      <td>0</td>\n",
       "      <td>0</td>\n",
       "      <td>0</td>\n",
       "    </tr>\n",
       "    <tr>\n",
       "      <th>7</th>\n",
       "      <td>167611704</td>\n",
       "      <td>1</td>\n",
       "      <td>0</td>\n",
       "      <td>0</td>\n",
       "      <td>0</td>\n",
       "      <td>2</td>\n",
       "      <td>6</td>\n",
       "      <td>0</td>\n",
       "      <td>0</td>\n",
       "      <td>0</td>\n",
       "      <td>0</td>\n",
       "      <td>0</td>\n",
       "      <td>0</td>\n",
       "      <td>0</td>\n",
       "      <td>0</td>\n",
       "      <td>0</td>\n",
       "      <td>0</td>\n",
       "      <td>1</td>\n",
       "    </tr>\n",
       "    <tr>\n",
       "      <th>8</th>\n",
       "      <td>167625105</td>\n",
       "      <td>1</td>\n",
       "      <td>0</td>\n",
       "      <td>0</td>\n",
       "      <td>0</td>\n",
       "      <td>0</td>\n",
       "      <td>11</td>\n",
       "      <td>0</td>\n",
       "      <td>0</td>\n",
       "      <td>0</td>\n",
       "      <td>0</td>\n",
       "      <td>0</td>\n",
       "      <td>0</td>\n",
       "      <td>0</td>\n",
       "      <td>0</td>\n",
       "      <td>0</td>\n",
       "      <td>0</td>\n",
       "      <td>0</td>\n",
       "    </tr>\n",
       "    <tr>\n",
       "      <th>9</th>\n",
       "      <td>167631789</td>\n",
       "      <td>1</td>\n",
       "      <td>0</td>\n",
       "      <td>0</td>\n",
       "      <td>0</td>\n",
       "      <td>0</td>\n",
       "      <td>17</td>\n",
       "      <td>0</td>\n",
       "      <td>0</td>\n",
       "      <td>0</td>\n",
       "      <td>0</td>\n",
       "      <td>0</td>\n",
       "      <td>0</td>\n",
       "      <td>0</td>\n",
       "      <td>0</td>\n",
       "      <td>0</td>\n",
       "      <td>0</td>\n",
       "      <td>0</td>\n",
       "    </tr>\n",
       "  </tbody>\n",
       "</table>\n",
       "</div>"
      ],
      "text/plain": [
       "         uid  label  freq_P_last_1  freq_P_last_3  freq_P_last_7  \\\n",
       "0  136858556      1              0              0              0   \n",
       "1  159183409      0              0              0              1   \n",
       "2  166855134      0              8              8             90   \n",
       "3  167581827      1              0              0              0   \n",
       "4  167590080      1              0              0              0   \n",
       "5  167594294      1              0              0              0   \n",
       "6  167598799      1              0              0              0   \n",
       "7  167611704      1              0              0              0   \n",
       "8  167625105      1              0              0              0   \n",
       "9  167631789      1              0              0              0   \n",
       "\n",
       "   freq_P_last_14  freq_P_last_30  freq_D_last_1  freq_D_last_3  \\\n",
       "0               0               3              0              0   \n",
       "1              79             774              0              0   \n",
       "2             159             231              0              0   \n",
       "3              15             163              0              0   \n",
       "4              97             257              0              0   \n",
       "5               0              17              0              0   \n",
       "6               0              13              0              0   \n",
       "7               2               6              0              0   \n",
       "8               0              11              0              0   \n",
       "9               0              17              0              0   \n",
       "\n",
       "   freq_D_last_7  freq_D_last_14  freq_D_last_30  freq_S_last_1  \\\n",
       "0              0               0               0              0   \n",
       "1              0               0               1              0   \n",
       "2              0               0               2              2   \n",
       "3              0               0               0              0   \n",
       "4              0               0               0              0   \n",
       "5              0               0               0              0   \n",
       "6              0               0               0              0   \n",
       "7              0               0               0              0   \n",
       "8              0               0               0              0   \n",
       "9              0               0               0              0   \n",
       "\n",
       "   freq_S_last_3  freq_S_last_7  freq_S_last_14  freq_S_last_30  device_type  \n",
       "0              0              0               0               0            0  \n",
       "1              0              2               2               9            0  \n",
       "2              2             13              23              32            0  \n",
       "3              0              0               0               0            0  \n",
       "4              0              0               0               0            0  \n",
       "5              0              0               0               0            0  \n",
       "6              0              0               0               0            0  \n",
       "7              0              0               0               0            1  \n",
       "8              0              0               0               0            0  \n",
       "9              0              0               0               0            0  "
      ]
     },
     "execution_count": 4,
     "metadata": {},
     "output_type": "execute_result"
    }
   ],
   "source": [
    "df.head(10)"
   ]
  },
  {
   "cell_type": "code",
   "execution_count": 5,
   "metadata": {},
   "outputs": [
    {
     "data": {
      "text/plain": [
       "0"
      ]
     },
     "execution_count": 5,
     "metadata": {},
     "output_type": "execute_result"
    }
   ],
   "source": [
    "df.isnull().sum().sum()"
   ]
  },
  {
   "cell_type": "code",
   "execution_count": 47,
   "metadata": {},
   "outputs": [
    {
     "data": {
      "text/html": [
       "<div>\n",
       "<style scoped>\n",
       "    .dataframe tbody tr th:only-of-type {\n",
       "        vertical-align: middle;\n",
       "    }\n",
       "\n",
       "    .dataframe tbody tr th {\n",
       "        vertical-align: top;\n",
       "    }\n",
       "\n",
       "    .dataframe thead th {\n",
       "        text-align: right;\n",
       "    }\n",
       "</style>\n",
       "<table border=\"1\" class=\"dataframe\">\n",
       "  <thead>\n",
       "    <tr style=\"text-align: right;\">\n",
       "      <th></th>\n",
       "      <th>uid</th>\n",
       "      <th>label</th>\n",
       "      <th>freq_P_last_1</th>\n",
       "      <th>freq_P_last_3</th>\n",
       "      <th>freq_P_last_7</th>\n",
       "      <th>freq_P_last_14</th>\n",
       "      <th>freq_P_last_30</th>\n",
       "      <th>freq_D_last_1</th>\n",
       "      <th>freq_D_last_3</th>\n",
       "      <th>freq_D_last_7</th>\n",
       "      <th>freq_D_last_14</th>\n",
       "      <th>freq_D_last_30</th>\n",
       "      <th>freq_S_last_1</th>\n",
       "      <th>freq_S_last_3</th>\n",
       "      <th>freq_S_last_7</th>\n",
       "      <th>freq_S_last_14</th>\n",
       "      <th>freq_S_last_30</th>\n",
       "      <th>device_type</th>\n",
       "    </tr>\n",
       "  </thead>\n",
       "  <tbody>\n",
       "    <tr>\n",
       "      <th>count</th>\n",
       "      <td>5.780400e+04</td>\n",
       "      <td>57804.000000</td>\n",
       "      <td>57804.000000</td>\n",
       "      <td>57804.000000</td>\n",
       "      <td>57804.000000</td>\n",
       "      <td>57804.000000</td>\n",
       "      <td>57804.000000</td>\n",
       "      <td>57804.000000</td>\n",
       "      <td>57804.000000</td>\n",
       "      <td>57804.000000</td>\n",
       "      <td>57804.000000</td>\n",
       "      <td>57804.000000</td>\n",
       "      <td>57804.000000</td>\n",
       "      <td>57804.000000</td>\n",
       "      <td>57804.000000</td>\n",
       "      <td>57804.000000</td>\n",
       "      <td>57804.000000</td>\n",
       "      <td>57804.000000</td>\n",
       "    </tr>\n",
       "    <tr>\n",
       "      <th>mean</th>\n",
       "      <td>1.674472e+08</td>\n",
       "      <td>0.620355</td>\n",
       "      <td>3.402636</td>\n",
       "      <td>10.846845</td>\n",
       "      <td>23.896651</td>\n",
       "      <td>51.878642</td>\n",
       "      <td>141.916788</td>\n",
       "      <td>0.144402</td>\n",
       "      <td>0.394021</td>\n",
       "      <td>0.912324</td>\n",
       "      <td>2.006643</td>\n",
       "      <td>9.184070</td>\n",
       "      <td>0.140181</td>\n",
       "      <td>0.338783</td>\n",
       "      <td>1.141011</td>\n",
       "      <td>2.818767</td>\n",
       "      <td>10.516919</td>\n",
       "      <td>0.126237</td>\n",
       "    </tr>\n",
       "    <tr>\n",
       "      <th>std</th>\n",
       "      <td>1.008130e+07</td>\n",
       "      <td>0.485303</td>\n",
       "      <td>16.539069</td>\n",
       "      <td>42.379305</td>\n",
       "      <td>76.739165</td>\n",
       "      <td>144.055433</td>\n",
       "      <td>294.326629</td>\n",
       "      <td>4.466437</td>\n",
       "      <td>7.607693</td>\n",
       "      <td>12.167230</td>\n",
       "      <td>21.350712</td>\n",
       "      <td>56.329045</td>\n",
       "      <td>1.402440</td>\n",
       "      <td>2.275486</td>\n",
       "      <td>5.662774</td>\n",
       "      <td>11.047602</td>\n",
       "      <td>28.328271</td>\n",
       "      <td>0.332119</td>\n",
       "    </tr>\n",
       "    <tr>\n",
       "      <th>min</th>\n",
       "      <td>1.039280e+05</td>\n",
       "      <td>0.000000</td>\n",
       "      <td>0.000000</td>\n",
       "      <td>0.000000</td>\n",
       "      <td>0.000000</td>\n",
       "      <td>0.000000</td>\n",
       "      <td>0.000000</td>\n",
       "      <td>0.000000</td>\n",
       "      <td>0.000000</td>\n",
       "      <td>0.000000</td>\n",
       "      <td>0.000000</td>\n",
       "      <td>0.000000</td>\n",
       "      <td>0.000000</td>\n",
       "      <td>0.000000</td>\n",
       "      <td>0.000000</td>\n",
       "      <td>0.000000</td>\n",
       "      <td>0.000000</td>\n",
       "      <td>0.000000</td>\n",
       "    </tr>\n",
       "    <tr>\n",
       "      <th>25%</th>\n",
       "      <td>1.680336e+08</td>\n",
       "      <td>0.000000</td>\n",
       "      <td>0.000000</td>\n",
       "      <td>0.000000</td>\n",
       "      <td>0.000000</td>\n",
       "      <td>0.000000</td>\n",
       "      <td>8.000000</td>\n",
       "      <td>0.000000</td>\n",
       "      <td>0.000000</td>\n",
       "      <td>0.000000</td>\n",
       "      <td>0.000000</td>\n",
       "      <td>0.000000</td>\n",
       "      <td>0.000000</td>\n",
       "      <td>0.000000</td>\n",
       "      <td>0.000000</td>\n",
       "      <td>0.000000</td>\n",
       "      <td>0.000000</td>\n",
       "      <td>0.000000</td>\n",
       "    </tr>\n",
       "    <tr>\n",
       "      <th>50%</th>\n",
       "      <td>1.684944e+08</td>\n",
       "      <td>1.000000</td>\n",
       "      <td>0.000000</td>\n",
       "      <td>0.000000</td>\n",
       "      <td>0.000000</td>\n",
       "      <td>0.000000</td>\n",
       "      <td>35.000000</td>\n",
       "      <td>0.000000</td>\n",
       "      <td>0.000000</td>\n",
       "      <td>0.000000</td>\n",
       "      <td>0.000000</td>\n",
       "      <td>0.000000</td>\n",
       "      <td>0.000000</td>\n",
       "      <td>0.000000</td>\n",
       "      <td>0.000000</td>\n",
       "      <td>0.000000</td>\n",
       "      <td>1.000000</td>\n",
       "      <td>0.000000</td>\n",
       "    </tr>\n",
       "    <tr>\n",
       "      <th>75%</th>\n",
       "      <td>1.687749e+08</td>\n",
       "      <td>1.000000</td>\n",
       "      <td>0.000000</td>\n",
       "      <td>0.000000</td>\n",
       "      <td>9.000000</td>\n",
       "      <td>33.000000</td>\n",
       "      <td>140.000000</td>\n",
       "      <td>0.000000</td>\n",
       "      <td>0.000000</td>\n",
       "      <td>0.000000</td>\n",
       "      <td>0.000000</td>\n",
       "      <td>3.000000</td>\n",
       "      <td>0.000000</td>\n",
       "      <td>0.000000</td>\n",
       "      <td>0.000000</td>\n",
       "      <td>1.000000</td>\n",
       "      <td>9.000000</td>\n",
       "      <td>0.000000</td>\n",
       "    </tr>\n",
       "    <tr>\n",
       "      <th>max</th>\n",
       "      <td>1.692432e+08</td>\n",
       "      <td>1.000000</td>\n",
       "      <td>1012.000000</td>\n",
       "      <td>2411.000000</td>\n",
       "      <td>2791.000000</td>\n",
       "      <td>3046.000000</td>\n",
       "      <td>4558.000000</td>\n",
       "      <td>642.000000</td>\n",
       "      <td>670.000000</td>\n",
       "      <td>1119.000000</td>\n",
       "      <td>1932.000000</td>\n",
       "      <td>6427.000000</td>\n",
       "      <td>101.000000</td>\n",
       "      <td>173.000000</td>\n",
       "      <td>383.000000</td>\n",
       "      <td>578.000000</td>\n",
       "      <td>1365.000000</td>\n",
       "      <td>1.000000</td>\n",
       "    </tr>\n",
       "  </tbody>\n",
       "</table>\n",
       "</div>"
      ],
      "text/plain": [
       "                uid         label  freq_P_last_1  freq_P_last_3  \\\n",
       "count  5.780400e+04  57804.000000   57804.000000   57804.000000   \n",
       "mean   1.674472e+08      0.620355       3.402636      10.846845   \n",
       "std    1.008130e+07      0.485303      16.539069      42.379305   \n",
       "min    1.039280e+05      0.000000       0.000000       0.000000   \n",
       "25%    1.680336e+08      0.000000       0.000000       0.000000   \n",
       "50%    1.684944e+08      1.000000       0.000000       0.000000   \n",
       "75%    1.687749e+08      1.000000       0.000000       0.000000   \n",
       "max    1.692432e+08      1.000000    1012.000000    2411.000000   \n",
       "\n",
       "       freq_P_last_7  freq_P_last_14  freq_P_last_30  freq_D_last_1  \\\n",
       "count   57804.000000    57804.000000    57804.000000   57804.000000   \n",
       "mean       23.896651       51.878642      141.916788       0.144402   \n",
       "std        76.739165      144.055433      294.326629       4.466437   \n",
       "min         0.000000        0.000000        0.000000       0.000000   \n",
       "25%         0.000000        0.000000        8.000000       0.000000   \n",
       "50%         0.000000        0.000000       35.000000       0.000000   \n",
       "75%         9.000000       33.000000      140.000000       0.000000   \n",
       "max      2791.000000     3046.000000     4558.000000     642.000000   \n",
       "\n",
       "       freq_D_last_3  freq_D_last_7  freq_D_last_14  freq_D_last_30  \\\n",
       "count   57804.000000   57804.000000    57804.000000    57804.000000   \n",
       "mean        0.394021       0.912324        2.006643        9.184070   \n",
       "std         7.607693      12.167230       21.350712       56.329045   \n",
       "min         0.000000       0.000000        0.000000        0.000000   \n",
       "25%         0.000000       0.000000        0.000000        0.000000   \n",
       "50%         0.000000       0.000000        0.000000        0.000000   \n",
       "75%         0.000000       0.000000        0.000000        3.000000   \n",
       "max       670.000000    1119.000000     1932.000000     6427.000000   \n",
       "\n",
       "       freq_S_last_1  freq_S_last_3  freq_S_last_7  freq_S_last_14  \\\n",
       "count   57804.000000   57804.000000   57804.000000    57804.000000   \n",
       "mean        0.140181       0.338783       1.141011        2.818767   \n",
       "std         1.402440       2.275486       5.662774       11.047602   \n",
       "min         0.000000       0.000000       0.000000        0.000000   \n",
       "25%         0.000000       0.000000       0.000000        0.000000   \n",
       "50%         0.000000       0.000000       0.000000        0.000000   \n",
       "75%         0.000000       0.000000       0.000000        1.000000   \n",
       "max       101.000000     173.000000     383.000000      578.000000   \n",
       "\n",
       "       freq_S_last_30   device_type  \n",
       "count    57804.000000  57804.000000  \n",
       "mean        10.516919      0.126237  \n",
       "std         28.328271      0.332119  \n",
       "min          0.000000      0.000000  \n",
       "25%          0.000000      0.000000  \n",
       "50%          1.000000      0.000000  \n",
       "75%          9.000000      0.000000  \n",
       "max       1365.000000      1.000000  "
      ]
     },
     "execution_count": 47,
     "metadata": {},
     "output_type": "execute_result"
    }
   ],
   "source": [
    "# Show summary stats\n",
    "df.describe()"
   ]
  },
  {
   "cell_type": "markdown",
   "metadata": {},
   "source": [
    "There are 5X times more users using andriod than iphone."
   ]
  },
  {
   "cell_type": "code",
   "execution_count": 5,
   "metadata": {},
   "outputs": [
    {
     "data": {
      "image/png": "[encoded data removed]",
      "text/plain": [
       "<Figure size 432x288 with 1 Axes>"
      ]
     },
     "metadata": {},
     "output_type": "display_data"
    }
   ],
   "source": [
    "sns.countplot(df.device_type);\n",
    "plt.xlabel('device_type');\n",
    "plt.ylabel('Number of occurrences');"
   ]
  },
  {
   "cell_type": "code",
   "execution_count": 10,
   "metadata": {},
   "outputs": [
    {
     "data": {
      "text/plain": [
       "<Figure size 432x288 with 0 Axes>"
      ]
     },
     "metadata": {},
     "output_type": "display_data"
    },
    {
     "data": {
      "image/png": "[encoded data removed]",
      "text/plain": [
       "<Figure size 432x288 with 1 Axes>"
      ]
     },
     "metadata": {},
     "output_type": "display_data"
    }
   ],
   "source": [
    "#看看各乘客等级的获救情况\n",
    "fig = plt.figure()\n",
    "fig.set(alpha=0.2)\n",
    "\n",
    "label_0 = df.device_type[df.label == 0].value_counts()\n",
    "label_1 = df.device_type[df.label == 1].value_counts()\n",
    "df_tmp = pd.DataFrame({u'churn':label_1, u'active':label_0})\n",
    "df_tmp.plot(kind='bar', stacked=True)\n",
    "plt.title(u\"Churn distribution by device type\")\n",
    "plt.xlabel(u\"device type\") \n",
    "plt.ylabel(u\"Number of occurrences\") \n",
    "plt.show()"
   ]
  },
  {
   "cell_type": "code",
   "execution_count": 16,
   "metadata": {},
   "outputs": [
    {
     "data": {
      "text/plain": [
       "<matplotlib.axes._subplots.AxesSubplot at 0x1a1b8c9be0>"
      ]
     },
     "execution_count": 16,
     "metadata": {},
     "output_type": "execute_result"
    },
    {
     "data": {
      "image/png": "[encoded data removed]",
      "text/plain": [
       "<Figure size 1152x648 with 2 Axes>"
      ]
     },
     "metadata": {},
     "output_type": "display_data"
    }
   ],
   "source": [
    "plt.subplots(figsize=(16,9))\n",
    "correlation_mat = df[selected_features].corr()\n",
    "sns.heatmap(correlation_mat, annot=True)"
   ]
  },
  {
   "cell_type": "markdown",
   "metadata": {},
   "source": [
    "### Define features and target"
   ]
  },
  {
   "cell_type": "code",
   "execution_count": 11,
   "metadata": {},
   "outputs": [],
   "source": [
    "selected_features = list(df.columns.values)"
   ]
  },
  {
   "cell_type": "code",
   "execution_count": 12,
   "metadata": {},
   "outputs": [
    {
     "data": {
      "text/plain": [
       "['freq_P_last_1',\n",
       " 'freq_P_last_3',\n",
       " 'freq_P_last_7',\n",
       " 'freq_P_last_14',\n",
       " 'freq_P_last_30',\n",
       " 'freq_D_last_1',\n",
       " 'freq_D_last_3',\n",
       " 'freq_D_last_7',\n",
       " 'freq_D_last_14',\n",
       " 'freq_D_last_30',\n",
       " 'freq_S_last_1',\n",
       " 'freq_S_last_3',\n",
       " 'freq_S_last_7',\n",
       " 'freq_S_last_14',\n",
       " 'freq_S_last_30',\n",
       " 'device_type']"
      ]
     },
     "execution_count": 12,
     "metadata": {},
     "output_type": "execute_result"
    }
   ],
   "source": [
    "selected_features.remove('uid')\n",
    "selected_features.remove('label')\n",
    "selected_features"
   ]
  },
  {
   "cell_type": "code",
   "execution_count": 50,
   "metadata": {},
   "outputs": [],
   "source": [
    "X = df[selected_features]\n",
    "y = df['label']"
   ]
  },
  {
   "cell_type": "code",
   "execution_count": 51,
   "metadata": {},
   "outputs": [
    {
     "data": {
      "text/plain": [
       "(57804, 16)"
      ]
     },
     "execution_count": 51,
     "metadata": {},
     "output_type": "execute_result"
    }
   ],
   "source": [
    "X.shape"
   ]
  },
  {
   "cell_type": "code",
   "execution_count": 52,
   "metadata": {},
   "outputs": [
    {
     "data": {
      "text/plain": [
       "0    1\n",
       "1    0\n",
       "2    0\n",
       "3    1\n",
       "4    1\n",
       "5    1\n",
       "6    1\n",
       "7    1\n",
       "8    1\n",
       "9    1\n",
       "Name: label, dtype: int64"
      ]
     },
     "execution_count": 52,
     "metadata": {},
     "output_type": "execute_result"
    }
   ],
   "source": [
    "y[:10]"
   ]
  },
  {
   "cell_type": "markdown",
   "metadata": {},
   "source": [
    "### Split dataset to train and test data"
   ]
  },
  {
   "cell_type": "markdown",
   "metadata": {},
   "source": [
    "First, we split the data into training and testing sets:"
   ]
  },
  {
   "cell_type": "code",
   "execution_count": 53,
   "metadata": {},
   "outputs": [],
   "source": [
    "# import train test split function from sklearn\n",
    "from sklearn.model_selection import train_test_split\n",
    "X_train, X_test, y_train, y_test = train_test_split(X, y, test_size=0.2, random_state=0)"
   ]
  },
  {
   "cell_type": "markdown",
   "metadata": {},
   "source": [
    "### Train model using sklearn"
   ]
  },
  {
   "cell_type": "code",
   "execution_count": 54,
   "metadata": {},
   "outputs": [],
   "source": [
    "# define function to perform train, test, and get model performance\n",
    "def train_test_model(clf, X_train, y_train, X_test, y_test):\n",
    "    # Fit a model by providing X and y from training set\n",
    "    clf.fit(X_train, y_train)\n",
    "\n",
    "    # Make prediction on the training data\n",
    "    y_train_pred = clf.predict(X_train)\n",
    "    p_train_pred = clf.predict_proba(X_train)[:,1]\n",
    "\n",
    "    # Make predictions on test data\n",
    "    y_test_pred = clf.predict(X_test)\n",
    "    p_test_pred = clf.predict_proba(X_test)[:,1]\n",
    "\n",
    "    # print model results\n",
    "    get_performance_metrics(y_train, p_train_pred, y_test, p_test_pred)\n",
    "    plot_roc_curve(y_train, p_train_pred, y_test, p_test_pred)\n"
   ]
  },
  {
   "cell_type": "markdown",
   "metadata": {},
   "source": [
    "#### Calculate the metric scores for the model"
   ]
  },
  {
   "cell_type": "code",
   "execution_count": 55,
   "metadata": {},
   "outputs": [],
   "source": [
    "%matplotlib inline\n",
    "import matplotlib.pyplot as plt\n",
    "from sklearn.metrics import roc_curve, auc\n",
    "\n",
    "def plot_roc_curve(y_train, y_train_pred, y_test, y_test_pred):\n",
    "    roc_auc_train = roc_auc_score(y_train, y_train_pred)\n",
    "    fpr_train, tpr_train, _ = roc_curve(y_train, y_train_pred)\n",
    "\n",
    "    roc_auc_test = roc_auc_score(y_test, y_test_pred)\n",
    "    fpr_test, tpr_test, _ = roc_curve(y_test, y_test_pred)\n",
    "    plt.figure()\n",
    "    lw = 2\n",
    "    plt.plot(fpr_train, tpr_train, color='green',\n",
    "             lw=lw, label='ROC Train (AUC = %0.4f)' % roc_auc_train)\n",
    "    plt.plot(fpr_test, tpr_test, color='darkorange',\n",
    "             lw=lw, label='ROC Test (AUC = %0.4f)' % roc_auc_test)\n",
    "    plt.plot([0, 1], [0, 1], color='navy', lw=lw, linestyle='--')\n",
    "    plt.xlim([0.0, 1.0])\n",
    "    plt.ylim([0.0, 1.05])\n",
    "    plt.xlabel('False Positive Rate')\n",
    "    plt.ylabel('True Positive Rate')\n",
    "    plt.title('Receiver operating characteristic example')\n",
    "    plt.legend(loc=\"lower right\")\n",
    "    plt.show()"
   ]
  },
  {
   "cell_type": "code",
   "execution_count": 56,
   "metadata": {},
   "outputs": [],
   "source": [
    "# Import metrics functions from sklearn\n",
    "from sklearn.metrics import precision_score, accuracy_score, recall_score, f1_score, roc_auc_score"
   ]
  },
  {
   "cell_type": "code",
   "execution_count": 57,
   "metadata": {},
   "outputs": [],
   "source": [
    "# Helper method to print metric scores    \n",
    "def get_performance_metrics(y_train, y_train_pred, y_test, y_test_pred, threshold=0.5):\n",
    "    metric_names = ['AUC','Accuracy','Precision','Recall','f1-score']\n",
    "    metric_values_train = [roc_auc_score(y_train, y_train_pred),\n",
    "                    accuracy_score(y_train, y_train_pred>threshold),\n",
    "                    precision_score(y_train, y_train_pred>threshold),\n",
    "                    recall_score(y_train, y_train_pred>threshold),\n",
    "                    f1_score(y_train, y_train_pred>threshold)\n",
    "                   ]\n",
    "    metric_values_test = [roc_auc_score(y_test, y_test_pred),\n",
    "                    accuracy_score(y_test, y_test_pred>threshold),\n",
    "                    precision_score(y_test, y_test_pred>threshold),\n",
    "                    recall_score(y_test, y_test_pred>threshold),\n",
    "                    f1_score(y_test, y_test_pred>threshold)\n",
    "                   ]\n",
    "    all_metrics = pd.DataFrame({'metrics':metric_names,\n",
    "                                'train':metric_values_train,\n",
    "                                'test':metric_values_test},columns=['metrics','train','test']).set_index('metrics')\n",
    "    print(all_metrics)"
   ]
  },
  {
   "cell_type": "markdown",
   "metadata": {},
   "source": [
    "Since it is a binary classification problem, the data were fitted with \n",
    "* logistic regression \n",
    "* Random forest"
   ]
  },
  {
   "cell_type": "markdown",
   "metadata": {},
   "source": [
    "#### Fitting logstic regression model"
   ]
  },
  {
   "cell_type": "code",
   "execution_count": 58,
   "metadata": {},
   "outputs": [
    {
     "name": "stdout",
     "output_type": "stream",
     "text": [
      "              train      test\n",
      "metrics                      \n",
      "AUC        0.863385  0.859576\n",
      "Accuracy   0.778323  0.777528\n",
      "Precision  0.753910  0.753248\n",
      "Recall     0.954814  0.950932\n",
      "f1-score   0.842551  0.840625\n"
     ]
    },
    {
     "data": {
      "image/png": "[encoded data removed]",
      "text/plain": [
       "<Figure size 432x288 with 1 Axes>"
      ]
     },
     "metadata": {},
     "output_type": "display_data"
    }
   ],
   "source": [
    "# Import logistic regression from sklearn\n",
    "from sklearn.linear_model import LogisticRegression\n",
    "\n",
    "# Initialize model by providing parameters\n",
    "# http://scikit-learn.org/stable/modules/generated/sklearn.linear_model.LogisticRegression.html\n",
    "clf = LogisticRegression(C=1.0, penalty='l2')\n",
    "# Fit a model by providing X and y from training set\n",
    "clf.fit(X_train, y_train)\n",
    "\n",
    "# Train test model\n",
    "train_test_model(clf, X_train, y_train, X_test, y_test)"
   ]
  },
  {
   "cell_type": "markdown",
   "metadata": {},
   "source": [
    "#### Random Forest"
   ]
  },
  {
   "cell_type": "code",
   "execution_count": 60,
   "metadata": {},
   "outputs": [
    {
     "name": "stdout",
     "output_type": "stream",
     "text": [
      "              train      test\n",
      "metrics                      \n",
      "AUC        0.906953  0.891396\n",
      "Accuracy   0.846247  0.829081\n",
      "Precision  0.854756  0.841750\n",
      "Recall     0.906531  0.890369\n",
      "f1-score   0.879882  0.865377\n"
     ]
    },
    {
     "data": {
      "image/png": "[encoded data removed]",
      "text/plain": [
       "<Figure size 432x288 with 1 Axes>"
      ]
     },
     "metadata": {},
     "output_type": "display_data"
    }
   ],
   "source": [
    "# fitting random forest\n",
    "from sklearn.ensemble import RandomForestClassifier\n",
    "\n",
    "# Choose some parameter combinations to try\n",
    "parameters = {'n_estimators': 50,\n",
    "              'max_features': 'auto',\n",
    "              'criterion': 'gini',\n",
    "              'max_depth': 20,\n",
    "              'min_samples_split': 2,\n",
    "              'min_samples_leaf': 20,\n",
    "              'random_state': 0,\n",
    "              'n_jobs': -1\n",
    "              }\n",
    "\n",
    "clf = RandomForestClassifier(**parameters)\n",
    "\n",
    "# Fit a model by providing X and y from training set\n",
    "clf.fit(X_train, y_train)\n",
    "\n",
    "# Train test model\n",
    "train_test_model(clf, X_train, y_train, X_test, y_test)"
   ]
  },
  {
   "cell_type": "code",
   "execution_count": 61,
   "metadata": {},
   "outputs": [
    {
     "data": {
      "image/png": "[encoded data removed]",
      "text/plain": [
       "<Figure size 432x288 with 1 Axes>"
      ]
     },
     "metadata": {},
     "output_type": "display_data"
    }
   ],
   "source": [
    "df_feature_importance = pd.DataFrame()\n",
    "df_feature_importance['feature'] = selected_features\n",
    "df_feature_importance['importance'] = clf.feature_importances_\n",
    "df_feature_importance.sort_values('importance',inplace=True)\n",
    "\n",
    "ax = df_feature_importance.plot.barh()\n",
    "t = np.arange(len(df_feature_importance['feature']))\n",
    "ax.set_yticks(t)\n",
    "ax.set_yticklabels(df_feature_importance['feature'])\n",
    "plt.show()"
   ]
  },
  {
   "cell_type": "markdown",
   "metadata": {},
   "source": [
    "## Summary"
   ]
  },
  {
   "cell_type": "markdown",
   "metadata": {},
   "source": [
    "From the above analysis, we can see that Logistic Regression and Random Forest can be used for user churn analysis for this particular dataset equally fine. \n",
    "\n",
    "Throughout the analysis, I have learned several important things:\n",
    "\n",
    "* Features such as frequency of users playing music in the window period of 14 days or 7 days appear to play an important role in user churn.\n",
    "* On the other hand, users behavior of downloading songs plays less role in this churn classification task.\n",
    "* There does not seem to be a relationship between dervice type and churn.\n"
   ]
  },
  {
   "cell_type": "markdown",
   "metadata": {},
   "source": [
    "## References\n",
    "1. https://medium.com/@InDataLabs/effective-customer-churn-analysis-prediction-6fce3626f2c2\n",
    "2. http://tesi.cab.unipd.it/53212/1/Valentino_Avon_-_1104319.pdf\n",
    "\n"
   ]
  }
 ],
 "metadata": {
  "kernelspec": {
   "display_name": "Python 3",
   "language": "python",
   "name": "python3"
  },
  "language_info": {
   "codemirror_mode": {
    "name": "ipython",
    "version": 3
   },
   "file_extension": ".py",
   "mimetype": "text/x-python",
   "name": "python",
   "nbconvert_exporter": "python",
   "pygments_lexer": "ipython3",
   "version": "3.6.5"
  },
  "toc-autonumbering": false,
  "toc-showtags": false
 },
 "nbformat": 4,
 "nbformat_minor": 2
}
